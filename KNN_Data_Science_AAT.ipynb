{
  "cells": [
    {
      "cell_type": "markdown",
      "metadata": {
        "id": "JNyRIRMaSUcH"
      },
      "source": [
        "KNN Classification"
      ]
    },
    {
      "cell_type": "markdown",
      "metadata": {
        "id": "-M_eKhyySUcP"
      },
      "source": []
    },
    {
      "cell_type": "code",
      "execution_count": null,
      "metadata": {
        "collapsed": true,
        "id": "X_fOdMcjSUcQ"
      },
      "outputs": [],
      "source": [
        "#Let's get rid of some imports\n",
        "%matplotlib inline\n",
        "import matplotlib.pyplot as plt\n",
        "import numpy as np"
      ]
    },
    {
      "cell_type": "markdown",
      "metadata": {
        "id": "x0I0b4mtSUcS"
      },
      "source": [
        "Training and Testing Data\n",
        "=====================================\n",
        "\n",
        "To evaluate how well our supervised models generalize, we can split our data into a training and a test set:\n",
        "\n",
        "<img src=\"https://github.com/RPI-DATA/course-intro-ml-app/blob/master/content/notebooks/fig/train_test_split_matrix.svg?raw=1\" width=\"100%\">"
      ]
    },
    {
      "cell_type": "code",
      "execution_count": null,
      "metadata": {
        "collapsed": true,
        "id": "XCGJoTMRSUcT"
      },
      "outputs": [],
      "source": [
        "from sklearn.datasets import load_iris\n",
        "\n",
        "#Iris is available from the sklearn package\n",
        "iris = load_iris()\n",
        "X, y = iris.data, iris.target\n",
        "\n"
      ]
    },
    {
      "cell_type": "markdown",
      "metadata": {
        "id": "n3IdxPCeSUcT"
      },
      "source": [
        "Thinking about how machine learning is normally performed, the idea of a train/test split makes sense. Real world systems train on the data they have, and as other data comes in (from customers, sensors, or other sources) the classifier that was trained must predict on fundamentally *new* data. We can simulate this during training using a train/test split - the test data is a simulation of \"future data\" which will come into the system during production.\n",
        "\n",
        "Specifically for iris, the 150 labels in iris are sorted, which means that if we split the data using a proportional split, this will result in fudamentally altered class distributions. For instance, if we'd perform a common 2/3 training data and 1/3 test data split, our training dataset will only consists of flower classes 0 and 1 (Setosa and Versicolor), and our test set will only contain samples with class label 2 (Virginica flowers).\n",
        "\n",
        "Under the assumption that all samples are independent of each other (in contrast time series data), we want to **randomly shuffle the dataset before we split the dataset** as illustrated above."
      ]
    },
    {
      "cell_type": "code",
      "execution_count": null,
      "metadata": {
        "id": "f9bAjSoiSUcU",
        "outputId": "3f6f7a49-84b5-40be-8e50-ac0cf4f32e46",
        "colab": {
          "base_uri": "https://localhost:8080/"
        }
      },
      "outputs": [
        {
          "output_type": "execute_result",
          "data": {
            "text/plain": [
              "array([0, 0, 0, 0, 0, 0, 0, 0, 0, 0, 0, 0, 0, 0, 0, 0, 0, 0, 0, 0, 0, 0,\n",
              "       0, 0, 0, 0, 0, 0, 0, 0, 0, 0, 0, 0, 0, 0, 0, 0, 0, 0, 0, 0, 0, 0,\n",
              "       0, 0, 0, 0, 0, 0, 1, 1, 1, 1, 1, 1, 1, 1, 1, 1, 1, 1, 1, 1, 1, 1,\n",
              "       1, 1, 1, 1, 1, 1, 1, 1, 1, 1, 1, 1, 1, 1, 1, 1, 1, 1, 1, 1, 1, 1,\n",
              "       1, 1, 1, 1, 1, 1, 1, 1, 1, 1, 1, 1, 2, 2, 2, 2, 2, 2, 2, 2, 2, 2,\n",
              "       2, 2, 2, 2, 2, 2, 2, 2, 2, 2, 2, 2, 2, 2, 2, 2, 2, 2, 2, 2, 2, 2,\n",
              "       2, 2, 2, 2, 2, 2, 2, 2, 2, 2, 2, 2, 2, 2, 2, 2, 2, 2])"
            ]
          },
          "metadata": {},
          "execution_count": 3
        }
      ],
      "source": [
        "y"
      ]
    },
    {
      "cell_type": "markdown",
      "metadata": {
        "id": "vjtM7e0rSUcX"
      },
      "source": [
        "### Shuffling Dataset\n",
        "\n",
        "- Now we need to split the data into training and testing.\n",
        "- Luckily, this is a common pattern in machine learning and scikit-learn has a pre-built function to split data into training and testing sets for you.\n",
        "- Here, we use 50% of the data as training, and 50% testing.\n",
        "- 80% and 20% is another common split, but there are no hard and fast rules.\n",
        "- The most important thing is to fairly evaluate your system on data it *has not* seen during training!"
      ]
    },
    {
      "cell_type": "code",
      "execution_count": null,
      "metadata": {
        "id": "tdK7kc49SUcY",
        "outputId": "1b82d9b7-032d-4e0e-f899-58b041abaf03",
        "colab": {
          "base_uri": "https://localhost:8080/"
        }
      },
      "outputs": [
        {
          "output_type": "stream",
          "name": "stdout",
          "text": [
            "Labels for training and testing data\n",
            "[1 1 0 2 2 0 0 1 1 2 0 0 1 0 1 2 0 2 0 0 1 0 0 1 2 1 1 1 0 0 1 2 0 0 1 1 1\n",
            " 2 1 1 1 2 0 0 1 2 2 2 2 0 1 0 1 1 0 1 2 1 2 2 0 1 0 2 2 1 1 2 2 1 0 1 1 2\n",
            " 2]\n",
            "[1 2 2 1 0 2 1 0 0 1 2 0 1 2 2 2 0 0 1 0 0 2 0 2 0 0 0 2 2 0 2 2 0 0 1 1 2\n",
            " 0 0 1 1 0 2 2 2 2 2 1 0 0 2 0 0 1 1 1 1 2 1 2 0 2 1 0 0 2 1 2 2 0 1 1 2 0\n",
            " 2]\n"
          ]
        }
      ],
      "source": [
        "#Import Module\n",
        "from sklearn.model_selection import train_test_split\n",
        "\n",
        "\n",
        "train_X, test_X, train_y, test_y = train_test_split(X, y,\n",
        "                                                    train_size=0.5,\n",
        "                                                    test_size=0.5,\n",
        "                                                    random_state=123)\n",
        "print(\"Labels for training and testing data\")\n",
        "print(train_y)\n",
        "print(test_y)"
      ]
    },
    {
      "cell_type": "markdown",
      "metadata": {
        "id": "SnSOBnjPSUcZ"
      },
      "source": [
        "---"
      ]
    },
    {
      "cell_type": "markdown",
      "metadata": {
        "id": "9jY9qc2ySUcZ"
      },
      "source": [
        "### Stratified Splitting\n",
        "\n",
        "- Especially for relatively small datasets, it's better to stratify the split.  \n",
        "- Stratification means that we maintain the original class proportion of the dataset in the test and training sets.\n",
        "- For example, after we randomly split the dataset as shown in the previous code example, we have the following class proportions in percent:"
      ]
    },
    {
      "cell_type": "code",
      "execution_count": null,
      "metadata": {
        "id": "Ib-22ti3SUca",
        "outputId": "ae2adb97-74e2-406a-d98c-d0380515e54c",
        "colab": {
          "base_uri": "https://localhost:8080/"
        }
      },
      "outputs": [
        {
          "output_type": "stream",
          "name": "stdout",
          "text": [
            "All: [33.33333333 33.33333333 33.33333333]\n",
            "Training: [30.66666667 40.         29.33333333]\n",
            "Test: [36.         26.66666667 37.33333333]\n"
          ]
        }
      ],
      "source": [
        "print('All:', np.bincount(y) / float(len(y)) * 100.0)\n",
        "print('Training:', np.bincount(train_y) / float(len(train_y)) * 100.0)\n",
        "print('Test:', np.bincount(test_y) / float(len(test_y)) * 100.0)"
      ]
    },
    {
      "cell_type": "markdown",
      "metadata": {
        "id": "tOcj4e4kSUca"
      },
      "source": [
        "So, in order to stratify the split, we can pass the label array as an additional option to the `train_test_split` function:"
      ]
    },
    {
      "cell_type": "code",
      "execution_count": null,
      "metadata": {
        "id": "xV91TADzSUcb",
        "outputId": "059cfeaf-10fd-4167-9a27-ddae95802fd1",
        "colab": {
          "base_uri": "https://localhost:8080/"
        }
      },
      "outputs": [
        {
          "output_type": "stream",
          "name": "stdout",
          "text": [
            "All: [33.33333333 33.33333333 33.33333333]\n",
            "Training: [33.33333333 33.33333333 33.33333333]\n",
            "Test: [33.33333333 33.33333333 33.33333333]\n"
          ]
        }
      ],
      "source": [
        "train_X, test_X, train_y, test_y = train_test_split(X, y,\n",
        "                                                    train_size=0.5,\n",
        "                                                    test_size=0.5,\n",
        "                                                    random_state=123,\n",
        "                                                    stratify=y)\n",
        "\n",
        "print('All:', np.bincount(y) / float(len(y)) * 100.0)\n",
        "print('Training:', np.bincount(train_y) / float(len(train_y)) * 100.0)\n",
        "print('Test:', np.bincount(test_y) / float(len(test_y)) * 100.0)"
      ]
    },
    {
      "cell_type": "markdown",
      "metadata": {
        "id": "Vl-XfftaSUcb"
      },
      "source": [
        "---"
      ]
    },
    {
      "cell_type": "markdown",
      "metadata": {
        "id": "GZCrHoKaSUcb"
      },
      "source": [
        "### Prediction using Simple Nearest Neighbor Classifier\n",
        "- By evaluating our classifier performance on data that has been seen during training, we could get false confidence in the predictive power of our model.\n",
        "- In the worst case, it may simply memorize the training samples but completely fails classifying new, similar samples -- we really don't want to put such a system into production!\n",
        "- Instead of using the same dataset for training and testing (this is called \"resubstitution evaluation\"), it is much much better to use a train/test split in order to estimate how well your trained model is doing on new data."
      ]
    },
    {
      "cell_type": "code",
      "execution_count": null,
      "metadata": {
        "collapsed": true,
        "id": "NDx9j0vtSUcc"
      },
      "outputs": [],
      "source": [
        "from sklearn.neighbors import KNeighborsClassifier\n",
        "#This creates a model object.\n",
        "classifier = KNeighborsClassifier()\n",
        "#This fits the model object to the data.\n",
        "classifier.fit(train_X, train_y)\n",
        "#This creates the prediction.\n",
        "pred_y = classifier.predict(test_X)\n"
      ]
    },
    {
      "cell_type": "markdown",
      "metadata": {
        "id": "NeIPqaQqSUcc"
      },
      "source": [
        "### Scoring\n",
        "- We can manually calculate the accuracy as we have done before.\n",
        "- `metrics.accuracy_score` is passed the target value and the predicted value.Model objects also built in scoring functions.\n",
        "- Can also us a `classifier.score` component built into the model."
      ]
    },
    {
      "cell_type": "code",
      "execution_count": null,
      "metadata": {
        "id": "tKue-wZ7SUcc",
        "outputId": "696d5c76-17bb-4f19-e1bd-375f20c52924",
        "colab": {
          "base_uri": "https://localhost:8080/"
        }
      },
      "outputs": [
        {
          "output_type": "stream",
          "name": "stdout",
          "text": [
            "Manual Accuracy: 0.96\n",
            "Metrics score:  0.96\n",
            "Classifier score:  0.96\n"
          ]
        }
      ],
      "source": [
        "from sklearn import metrics\n",
        "\n",
        "#This calculates the accuracy.\n",
        "print(\"Manual Accuracy:\", np.sum(pred_y == test_y) / float(len(test_y)))\n",
        "print(\"Metrics score: \", metrics.accuracy_score(test_y, pred_y) )\n",
        "print(\"Classifier score: \", classifier.score(test_X, test_y) )\n"
      ]
    },
    {
      "cell_type": "markdown",
      "metadata": {
        "id": "9bdvuDsCSUcd"
      },
      "source": [
        "### Cross Validation\n",
        "- Teh `cv` parameter is the number of folds.\n",
        "- Scoring type depends on whether classification, clustering, regression.\n",
        "![](https://github.com/RPI-DATA/course-intro-ml-app/blob/master/content/notebooks/fig/score.png?raw=1)\n"
      ]
    },
    {
      "cell_type": "code",
      "execution_count": null,
      "metadata": {
        "id": "N-G6D5OwSUcd",
        "outputId": "90611bc5-3d42-4ac5-bcad-e5d749220e7b",
        "colab": {
          "base_uri": "https://localhost:8080/"
        }
      },
      "outputs": [
        {
          "output_type": "stream",
          "name": "stdout",
          "text": [
            "Two-fold cross validation: [0.97368421 0.97297297]\n",
            "Ten-fold cross validation: [1.    0.875 0.875 1.    1.    1.    1.    1.    1.    1.   ]\n"
          ]
        }
      ],
      "source": [
        "from sklearn.model_selection import cross_val_score\n",
        "cv1 = cross_val_score(classifier, train_X, train_y, cv=2, scoring='accuracy')\n",
        "cv10 = cross_val_score(classifier, train_X, train_y, cv=10, scoring='accuracy')\n",
        "print(\"Two-fold cross validation:\", cv1)\n",
        "print(\"Ten-fold cross validation:\", cv10)\n"
      ]
    },
    {
      "cell_type": "markdown",
      "metadata": {
        "id": "Lk_J1ux7SUce"
      },
      "source": [
        "### Visualizing Errors"
      ]
    },
    {
      "cell_type": "markdown",
      "metadata": {
        "id": "Jcx7f58tSUce"
      },
      "source": [
        "We can also visualize the correct and failed predictions."
      ]
    },
    {
      "cell_type": "code",
      "execution_count": null,
      "metadata": {
        "id": "7Is-DR5lSUce",
        "outputId": "9e88d4ed-5158-42ec-c0bb-44c06580f6dd",
        "colab": {
          "base_uri": "https://localhost:8080/"
        }
      },
      "outputs": [
        {
          "output_type": "stream",
          "name": "stdout",
          "text": [
            "Samples correctly classified:\n",
            "[ 0  1  2  3  4  5  6  7  8  9 10 11 12 13 14 15 16 17 18 19 20 21 22 23\n",
            " 24 25 26 27 28 29 30 31 32 33 34 35 36 37 38 39 40 41 42 43 45 46 47 48\n",
            " 50 51 52 53 54 55 56 57 58 59 61 62 63 64 65 66 67 68 69 70 71 72 73 74]\n",
            "\n",
            "Samples incorrectly classified:\n",
            "[44 49 60]\n"
          ]
        }
      ],
      "source": [
        "print('Samples correctly classified:')\n",
        "correct_idx = np.where(pred_y == test_y)[0]\n",
        "print(correct_idx)\n",
        "\n",
        "print('\\nSamples incorrectly classified:')\n",
        "incorrect_idx = np.where(pred_y != test_y)[0]\n",
        "print(incorrect_idx)"
      ]
    },
    {
      "cell_type": "code",
      "execution_count": null,
      "metadata": {
        "id": "J6y2gklZSUcf",
        "outputId": "420e4a81-80ab-4b19-f793-91cb8a9df3cc",
        "colab": {
          "base_uri": "https://localhost:8080/",
          "height": 472
        }
      },
      "outputs": [
        {
          "output_type": "display_data",
          "data": {
            "text/plain": [
              "<Figure size 640x480 with 1 Axes>"
            ],
            "image/png": "[encoded data removed]"
          },
          "metadata": {}
        }
      ],
      "source": [
        "# Plot two dimensions\n",
        "\n",
        "colors = [\"darkblue\", \"darkgreen\", \"gray\"]\n",
        "\n",
        "for n, color in enumerate(colors):\n",
        "    idx = np.where(test_y == n)[0]\n",
        "    plt.scatter(test_X[idx, 1], test_X[idx, 2], color=color, label=\"Class %s\" % str(n))\n",
        "\n",
        "plt.scatter(test_X[incorrect_idx, 1], test_X[incorrect_idx, 2], color=\"darkred\")\n",
        "\n",
        "plt.xlabel('sepal width [cm]')\n",
        "plt.ylabel('petal length [cm]')\n",
        "plt.legend(loc=3)\n",
        "plt.title(\"Iris Classification results\")\n",
        "plt.show()"
      ]
    },
    {
      "cell_type": "markdown",
      "metadata": {
        "id": "UVLLXSG1SUcf"
      },
      "source": [
        "We can see that the errors occur in the area where green (class 1) and gray (class 2) overlap. This gives us insight about what features to add - any feature which helps separate class 1 and class 2 should improve classifier performance."
      ]
    },
    {
      "cell_type": "markdown",
      "metadata": {
        "id": "tcsbSbEVSUcf"
      },
      "source": [
        "### Nearest Neighbor Classification\n",
        "- [Documentation](http://scikit-learn.org/stable/modules/neighbors.html) and [Function](http://scikit-learn.org/stable/modules/generated/sklearn.neighbors.KNeighborsClassifier.html).\n",
        "- Various ways of tuning the model to take into account K neighbors or weighted values.\n",
        "- Generally, larger values of k reduce the effect of noise on the classification.\n",
        "- Weighted models can also be used, where closer neighbors are weighted more highly.\n",
        "\n",
        "\n",
        "### Example\n",
        "- Example below: The test sample (green circle) should be classified either to the first class of blue squares or to the second class of red triangles. If k = 3 (solid line circle) it is assigned to the second class because there are 2 triangles and only 1 square inside the inner circle. If k = 5 (dashed line circle) it is assigned to the first class (3 squares vs. 2 triangles inside the outer circle).\n",
        "![](https://github.com/RPI-DATA/course-intro-ml-app/blob/master/content/notebooks/fig/nearest-neighbor.png?raw=1)\n",
        "By Antti Ajanki AnAj (Own work) [GFDL (http://www.gnu.org/copyleft/fdl.html), CC-BY-SA-3.0 (http://creativecommons.org/licenses/by-sa/3.0/) or CC BY-SA 2.5-2.0-1.0 (https://creativecommons.org/licenses/by-sa/2.5-2.0-1.0)], via Wikimedia Commons"
      ]
    },
    {
      "cell_type": "markdown",
      "metadata": {
        "id": "692IO0ShSUcg"
      },
      "source": [
        "### Hyperparameter Tuning\n",
        "- Hyperprameters are the various settings you can provide to an algorithm.\n",
        "- For example, you could detrmine the number of neighors or the weighting method used.\n",
        "\n",
        "![](https://github.com/RPI-DATA/course-intro-ml-app/blob/master/content/notebooks/fig/hyper.png?raw=1)\n",
        "\n",
        "\n"
      ]
    },
    {
      "cell_type": "code",
      "execution_count": null,
      "metadata": {
        "id": "KDhGCkCfSUcg",
        "outputId": "eb65edd7-2dfb-45c8-c158-b5814dcd821a",
        "colab": {
          "base_uri": "https://localhost:8080/"
        }
      },
      "outputs": [
        {
          "output_type": "stream",
          "name": "stdout",
          "text": [
            "Metrics score:  0.9466666666666667\n"
          ]
        }
      ],
      "source": [
        "classifier = KNeighborsClassifier(n_neighbors=10)\n",
        "#This fits the model object to the data.\n",
        "classifier.fit(train_X, train_y)\n",
        "#This creates the prediction.\n",
        "pred_y = classifier.predict(test_X)\n",
        "print(\"Metrics score: \", metrics.accuracy_score(test_y, pred_y) )"
      ]
    },
    {
      "cell_type": "code",
      "execution_count": null,
      "metadata": {
        "collapsed": true,
        "id": "kvvepdHwSUcg"
      },
      "outputs": [],
      "source": []
    }
  ],
  "metadata": {
    "anaconda-cloud": {},
    "kernelspec": {
      "display_name": "Python 3",
      "language": "python",
      "name": "python3"
    },
    "language_info": {
      "codemirror_mode": {
        "name": "ipython",
        "version": 3
      },
      "file_extension": ".py",
      "mimetype": "text/x-python",
      "name": "python",
      "nbconvert_exporter": "python",
      "pygments_lexer": "ipython3",
      "version": "3.6.3"
    },
    "colab": {
      "provenance": [],
      "toc_visible": true
    }
  },
  "nbformat": 4,
  "nbformat_minor": 0
}